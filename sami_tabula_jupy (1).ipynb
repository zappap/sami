{
 "cells": [
  {
   "cell_type": "code",
   "execution_count": 1,
   "id": "bb0aa9a1",
   "metadata": {},
   "outputs": [],
   "source": [
    "import tabula\n",
    "import pandas as pd\n",
    "import zipfile\n",
    "import easygui\n",
    "import xlwings as xw\n",
    "import datetime\n",
    "import os\n",
    "\n",
    "filename = easygui.fileopenbox(msg=\"Birlestirilmis Listeyi (PDF) Seciniz\", filetypes=\"*.pdf\")\n",
    "path = os.sep.join(filename.split(os.sep)[:-1])\n",
    "belge_no = easygui.enterbox(\"Belge No Giriniz: (Ör: 21351900IM000008)\")\n",
    "# belge_tur = easygui.enterbox(\"Belge Türü Giriniz: (Ör: Detaylı Beyan için 3)\")\n",
    "tables = tabula.read_pdf(filename, pages='all', multiple_tables=False)\n",
    "df = tables[0].dropna()\n",
    "\n",
    "entry_exit = pd.DataFrame(df['kinci Tartim Tarih'].str.split(expand=True))\n",
    "# entry_exit.rename(columns={0: 'date', 1:'time'}, inplace=True)\n",
    "entry_exit.insert(0, 'YÖN', 'Ç')\n",
    "entry_exit.insert(1, 'BELGE_TÜRÜ', int(3))\n",
    "entry_exit.insert(2, 'BELGE_NO', str(belge_no))\n",
    "entry_exit.insert(3, 'PLAKA', df['Araç Plaka'])\n",
    "entry_exit.insert(4, 'DORSE1', '')\n",
    "entry_exit.insert(5, 'DORSE2', '')\n",
    "entry_exit = entry_exit.set_index('YÖN')\n",
    "\n",
    "with zipfile.ZipFile('{}\\Arac_Giris_Cikis_Aktarim_Sablon.zip'.format(path), 'r') as zip_ref:\n",
    "    zip_ref.extractall(path)\n",
    "\n",
    "book = xw.Book(r'{}\\Arac_Giris_Cikis_Aktarim_Sablon.xls'.format(path))\n",
    "sheet = book.sheets[0]\n",
    "sheet['A2'].options(header=False).value = entry_exit\n",
    "book.save(r'{}\\Sami-{}.xls'.format(path, datetime.datetime.today().strftime('%Y-%m-%d-%H-%M-%S')))\n",
    "book.close()"
   ]
  },
  {
   "cell_type": "code",
   "execution_count": null,
   "id": "20a1557a",
   "metadata": {},
   "outputs": [],
   "source": []
  }
 ],
 "metadata": {
  "kernelspec": {
   "display_name": "Python 3 (ipykernel)",
   "language": "python",
   "name": "python3"
  },
  "language_info": {
   "codemirror_mode": {
    "name": "ipython",
    "version": 3
   },
   "file_extension": ".py",
   "mimetype": "text/x-python",
   "name": "python",
   "nbconvert_exporter": "python",
   "pygments_lexer": "ipython3",
   "version": "3.8.11"
  }
 },
 "nbformat": 4,
 "nbformat_minor": 5
}
